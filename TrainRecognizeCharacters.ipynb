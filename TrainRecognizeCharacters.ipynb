{
 "cells": [
  {
   "cell_type": "code",
   "execution_count": 1,
   "metadata": {},
   "outputs": [
    {
     "name": "stderr",
     "output_type": "stream",
     "text": [
      "C:\\Users\\admin\\anaconda3\\lib\\site-packages\\sklearn\\externals\\joblib\\__init__.py:15: FutureWarning: sklearn.externals.joblib is deprecated in 0.21 and will be removed in 0.23. Please import this functionality directly from joblib, which can be installed with: pip install joblib. If this warning is raised when loading pickled models, you may need to re-serialize those models with scikit-learn 0.21+.\n",
      "  warnings.warn(msg, category=FutureWarning)\n"
     ]
    }
   ],
   "source": [
    "import os\n",
    "import numpy as np\n",
    "from sklearn.svm import SVC\n",
    "from sklearn.model_selection import cross_val_score\n",
    "from sklearn.externals import joblib\n",
    "from skimage.io import imread\n",
    "from skimage.filters import threshold_otsu\n",
    "import cv2"
   ]
  },
  {
   "cell_type": "code",
   "execution_count": 2,
   "metadata": {},
   "outputs": [],
   "source": [
    "letters = [\n",
    "            '0', '1', '2', '3', '4', '5', '6', '7', '8', '9', 'A', 'B', 'C', 'D',\n",
    "            'E', 'F', 'G', 'H', 'J', 'K', 'M', 'N', 'P', 'Q', 'R', 'S', 'T',\n",
    "            'U', 'V', 'W', 'X', 'Y', 'Z'\n",
    "        ]\n"
   ]
  },
  {
   "cell_type": "code",
   "execution_count": 3,
   "metadata": {},
   "outputs": [],
   "source": [
    "def read_training_data(training_directory):\n",
    "    image_data = []\n",
    "    target_data = []\n",
    "    for each_letter in letters:\n",
    "        for each in range(10):\n",
    "            image_path = os.path.join(training_directory, each_letter, each_letter + '_' + str(each) + '.jpg')\n",
    "            img_details = cv2.imread(image_path, 0)\n",
    "            binary_image = img_details < threshold_otsu(img_details)\n",
    "            flat_bin_image = binary_image.reshape(-1)\n",
    "            image_data.append(flat_bin_image)\n",
    "            target_data.append(each_letter)\n",
    "    return (np.array(image_data), np.array(target_data))"
   ]
  },
  {
   "cell_type": "code",
   "execution_count": 4,
   "metadata": {},
   "outputs": [],
   "source": [
    "def cross_validation(model, num_of_fold, train_data, train_label):\n",
    "    accuracy_result = cross_val_score(model, train_data, train_label,\n",
    "                                      cv=num_of_fold)\n",
    "    print(\"Cross Validation Result for \", str(num_of_fold), \" -fold\")\n",
    "    print(accuracy_result * 100)"
   ]
  },
  {
   "cell_type": "code",
   "execution_count": 5,
   "metadata": {},
   "outputs": [
    {
     "name": "stdout",
     "output_type": "stream",
     "text": [
      "reading data\n",
      "reading data completed\n",
      "Cross Validation Result for  4  -fold\n",
      "[96.38554217 98.79518072 96.34146341 98.7804878 ]\n",
      "training model\n"
     ]
    },
    {
     "data": {
      "text/plain": [
       "SVC(C=1.0, break_ties=False, cache_size=200, class_weight=None, coef0=0.0,\n",
       "    decision_function_shape='ovr', degree=3, gamma='scale', kernel='linear',\n",
       "    max_iter=-1, probability=True, random_state=None, shrinking=True, tol=0.001,\n",
       "    verbose=False)"
      ]
     },
     "execution_count": 5,
     "metadata": {},
     "output_type": "execute_result"
    }
   ],
   "source": [
    "import os\n",
    "import cv2\n",
    "print('reading data')\n",
    "training_dataset_dir = './train20X20'\n",
    "image_data, target_data = read_training_data(training_dataset_dir)\n",
    "print('reading data completed')\n",
    "svc_model = SVC(kernel='linear', probability=True)\n",
    "cross_validation(svc_model, 4, image_data, target_data)\n",
    "print('training model')\n",
    "svc_model.fit(image_data, target_data)"
   ]
  },
  {
   "cell_type": "code",
   "execution_count": 6,
   "metadata": {},
   "outputs": [
    {
     "name": "stdout",
     "output_type": "stream",
     "text": [
      "model trained.saving model..\n",
      "model saved\n"
     ]
    }
   ],
   "source": [
    "import pickle\n",
    "print(\"model trained.saving model..\")\n",
    "filename = './finalized_model.sav'\n",
    "pickle.dump(svc_model, open(filename, 'wb'))\n",
    "print(\"model saved\")"
   ]
  },
  {
   "cell_type": "code",
   "execution_count": null,
   "metadata": {},
   "outputs": [],
   "source": []
  },
  {
   "cell_type": "code",
   "execution_count": null,
   "metadata": {},
   "outputs": [],
   "source": []
  },
  {
   "cell_type": "code",
   "execution_count": null,
   "metadata": {},
   "outputs": [],
   "source": []
  },
  {
   "cell_type": "code",
   "execution_count": null,
   "metadata": {},
   "outputs": [],
   "source": []
  }
 ],
 "metadata": {
  "kernelspec": {
   "display_name": "Python 3",
   "language": "python",
   "name": "python3"
  },
  "language_info": {
   "codemirror_mode": {
    "name": "ipython",
    "version": 3
   },
   "file_extension": ".py",
   "mimetype": "text/x-python",
   "name": "python",
   "nbconvert_exporter": "python",
   "pygments_lexer": "ipython3",
   "version": "3.7.6"
  }
 },
 "nbformat": 4,
 "nbformat_minor": 2
}
